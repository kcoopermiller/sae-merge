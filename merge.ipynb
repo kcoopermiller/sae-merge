{
 "cells": [
  {
   "cell_type": "markdown",
   "metadata": {},
   "source": [
    "# Merging"
   ]
  },
  {
   "cell_type": "markdown",
   "metadata": {},
   "source": [
    "## Frankenmerge / Passthrough\n",
    "*concatenate layers from both models*\n",
    "\n",
    "You can also use [MergeKit GUI Space](https://huggingface.co/spaces/arcee-ai/mergekit-gui) to merge\n"
   ]
  },
  {
   "cell_type": "code",
   "execution_count": null,
   "metadata": {},
   "outputs": [],
   "source": [
    "MODEL_NAME = \"MATS-frankenmerge\"\n",
    "yaml_config = \"\"\"\n",
    "slices:\n",
    "  - sources:\n",
    "    - model: llm-jp/llm-jp-1.3b-v1.0\n",
    "      layer_range: [0, 24]\n",
    "  - sources:\n",
    "    - model: Qwen/Qwen1.5-0.5B\n",
    "      layer_range: [2]\n",
    "merge_method: passthrough\n",
    "dtype: bfloat16\n",
    "\"\"\"\n",
    "\n",
    "# Save config as yaml file\n",
    "with open('merge.yaml', 'w', encoding=\"utf-8\") as f:\n",
    "    f.write(yaml_config)\n"
   ]
  },
  {
   "cell_type": "code",
   "execution_count": null,
   "metadata": {},
   "outputs": [],
   "source": [
    "!cd mergekit && source env/bin/activate && mergekit-yaml ../merge.yaml merge --copy-tokenizer --allow-crimes --out-shard-size 1B --lazy-unpickle"
   ]
  },
  {
   "cell_type": "code",
   "execution_count": null,
   "metadata": {},
   "outputs": [],
   "source": [
    "from huggingface_hub import ModelCard, ModelCardData, HfApi\n",
    "from jinja2 import Template\n",
    "from google.colab import userdata\n",
    "\n",
    "username = \"kcoopermiller\"\n",
    "\n",
    "template_text = \"\"\"\n",
    "---\n",
    "license: apache-2.0\n",
    "tags:\n",
    "- merge\n",
    "- mergekit\n",
    "- lazymergekit\n",
    "{%- for model in models %}\n",
    "- {{ model }}\n",
    "{%- endfor %}\n",
    "---\n",
    "\n",
    "# {{ model_name }}\n",
    "\n",
    "{{ model_name }} is a merge of the following models using [mergekit](https://github.com/cg123/mergekit):\n",
    "\n",
    "{%- for model in models %}\n",
    "* [{{ model }}](https://huggingface.co/{{ model }})\n",
    "{%- endfor %}\n",
    "\n",
    "## 🧩 Configuration\n",
    "\n",
    "\\```yaml\n",
    "{{- yaml_config -}}\n",
    "\\```\n",
    "\"\"\"\n",
    "\n",
    "# Create a Jinja template object\n",
    "jinja_template = Template(template_text.strip())\n",
    "\n",
    "# Get list of models from config\n",
    "data = yaml.safe_load(yaml_config)\n",
    "if \"models\" in data:\n",
    "    models = [data[\"models\"][i][\"model\"] for i in range(len(data[\"models\"])) if \"parameters\" in data[\"models\"][i]]\n",
    "elif \"parameters\" in data:\n",
    "    models = [data[\"slices\"][0][\"sources\"][i][\"model\"] for i in range(len(data[\"slices\"][0][\"sources\"]))]\n",
    "elif \"slices\" in data:\n",
    "    models = [data[\"slices\"][i][\"sources\"][0][\"model\"] for i in range(len(data[\"slices\"]))]\n",
    "else:\n",
    "    raise Exception(\"No models or slices found in yaml config\")\n",
    "\n",
    "# Fill the template\n",
    "content = jinja_template.render(\n",
    "    model_name=MODEL_NAME,\n",
    "    models=models,\n",
    "    yaml_config=yaml_config,\n",
    "    username=username,\n",
    ")\n",
    "\n",
    "# Save the model card\n",
    "card = ModelCard(content)\n",
    "card.save('merge/README.md')\n",
    "\n",
    "# Defined in the secrets tab in Google Colab\n",
    "api = HfApi(token=userdata.get(\"HF_TOKEN\"))\n",
    "\n",
    "api.create_repo(\n",
    "    repo_id=f\"{username}/{MODEL_NAME}\",\n",
    "    repo_type=\"model\"\n",
    ")\n",
    "api.upload_folder(\n",
    "    repo_id=f\"{username}/{MODEL_NAME}\",\n",
    "    folder_path=\"merge\",\n",
    ")"
   ]
  }
 ],
 "metadata": {
  "language_info": {
   "name": "python"
  }
 },
 "nbformat": 4,
 "nbformat_minor": 2
}
